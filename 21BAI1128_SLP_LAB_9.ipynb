{
  "cells": [
    {
      "cell_type": "markdown",
      "metadata": {
        "id": "i3mPCwTwzH4v"
      },
      "source": [
        "# 21BAI1128 Gopal Singh S SLP LAB-9\n",
        "Write a Python Code to use BERT for Named Entity recognition\n",
        "\n",
        "dataset: [here](https://www.kaggle.com/datasets/namanj27/ner-dataset/data)"
      ]
    },
    {
      "cell_type": "markdown",
      "metadata": {
        "id": "_kK8YPcU2oY6"
      },
      "source": [
        "Import Libraries and Set Up Kaggle API for Dataset Download"
      ]
    },
    {
      "cell_type": "code",
      "execution_count": 1,
      "metadata": {
        "colab": {
          "base_uri": "https://localhost:8080/",
          "height": 194
        },
        "id": "Wew26H9K2oy8",
        "outputId": "41bbc9a0-d83c-437e-df25-17d7894745fd"
      },
      "outputs": [
        {
          "data": {
            "text/html": [
              "\n",
              "     <input type=\"file\" id=\"files-e3cf069d-15ae-4e27-ae50-e33726950b10\" name=\"files[]\" multiple disabled\n",
              "        style=\"border:none\" />\n",
              "     <output id=\"result-e3cf069d-15ae-4e27-ae50-e33726950b10\">\n",
              "      Upload widget is only available when the cell has been executed in the\n",
              "      current browser session. Please rerun this cell to enable.\n",
              "      </output>\n",
              "      <script>// Copyright 2017 Google LLC\n",
              "//\n",
              "// Licensed under the Apache License, Version 2.0 (the \"License\");\n",
              "// you may not use this file except in compliance with the License.\n",
              "// You may obtain a copy of the License at\n",
              "//\n",
              "//      http://www.apache.org/licenses/LICENSE-2.0\n",
              "//\n",
              "// Unless required by applicable law or agreed to in writing, software\n",
              "// distributed under the License is distributed on an \"AS IS\" BASIS,\n",
              "// WITHOUT WARRANTIES OR CONDITIONS OF ANY KIND, either express or implied.\n",
              "// See the License for the specific language governing permissions and\n",
              "// limitations under the License.\n",
              "\n",
              "/**\n",
              " * @fileoverview Helpers for google.colab Python module.\n",
              " */\n",
              "(function(scope) {\n",
              "function span(text, styleAttributes = {}) {\n",
              "  const element = document.createElement('span');\n",
              "  element.textContent = text;\n",
              "  for (const key of Object.keys(styleAttributes)) {\n",
              "    element.style[key] = styleAttributes[key];\n",
              "  }\n",
              "  return element;\n",
              "}\n",
              "\n",
              "// Max number of bytes which will be uploaded at a time.\n",
              "const MAX_PAYLOAD_SIZE = 100 * 1024;\n",
              "\n",
              "function _uploadFiles(inputId, outputId) {\n",
              "  const steps = uploadFilesStep(inputId, outputId);\n",
              "  const outputElement = document.getElementById(outputId);\n",
              "  // Cache steps on the outputElement to make it available for the next call\n",
              "  // to uploadFilesContinue from Python.\n",
              "  outputElement.steps = steps;\n",
              "\n",
              "  return _uploadFilesContinue(outputId);\n",
              "}\n",
              "\n",
              "// This is roughly an async generator (not supported in the browser yet),\n",
              "// where there are multiple asynchronous steps and the Python side is going\n",
              "// to poll for completion of each step.\n",
              "// This uses a Promise to block the python side on completion of each step,\n",
              "// then passes the result of the previous step as the input to the next step.\n",
              "function _uploadFilesContinue(outputId) {\n",
              "  const outputElement = document.getElementById(outputId);\n",
              "  const steps = outputElement.steps;\n",
              "\n",
              "  const next = steps.next(outputElement.lastPromiseValue);\n",
              "  return Promise.resolve(next.value.promise).then((value) => {\n",
              "    // Cache the last promise value to make it available to the next\n",
              "    // step of the generator.\n",
              "    outputElement.lastPromiseValue = value;\n",
              "    return next.value.response;\n",
              "  });\n",
              "}\n",
              "\n",
              "/**\n",
              " * Generator function which is called between each async step of the upload\n",
              " * process.\n",
              " * @param {string} inputId Element ID of the input file picker element.\n",
              " * @param {string} outputId Element ID of the output display.\n",
              " * @return {!Iterable<!Object>} Iterable of next steps.\n",
              " */\n",
              "function* uploadFilesStep(inputId, outputId) {\n",
              "  const inputElement = document.getElementById(inputId);\n",
              "  inputElement.disabled = false;\n",
              "\n",
              "  const outputElement = document.getElementById(outputId);\n",
              "  outputElement.innerHTML = '';\n",
              "\n",
              "  const pickedPromise = new Promise((resolve) => {\n",
              "    inputElement.addEventListener('change', (e) => {\n",
              "      resolve(e.target.files);\n",
              "    });\n",
              "  });\n",
              "\n",
              "  const cancel = document.createElement('button');\n",
              "  inputElement.parentElement.appendChild(cancel);\n",
              "  cancel.textContent = 'Cancel upload';\n",
              "  const cancelPromise = new Promise((resolve) => {\n",
              "    cancel.onclick = () => {\n",
              "      resolve(null);\n",
              "    };\n",
              "  });\n",
              "\n",
              "  // Wait for the user to pick the files.\n",
              "  const files = yield {\n",
              "    promise: Promise.race([pickedPromise, cancelPromise]),\n",
              "    response: {\n",
              "      action: 'starting',\n",
              "    }\n",
              "  };\n",
              "\n",
              "  cancel.remove();\n",
              "\n",
              "  // Disable the input element since further picks are not allowed.\n",
              "  inputElement.disabled = true;\n",
              "\n",
              "  if (!files) {\n",
              "    return {\n",
              "      response: {\n",
              "        action: 'complete',\n",
              "      }\n",
              "    };\n",
              "  }\n",
              "\n",
              "  for (const file of files) {\n",
              "    const li = document.createElement('li');\n",
              "    li.append(span(file.name, {fontWeight: 'bold'}));\n",
              "    li.append(span(\n",
              "        `(${file.type || 'n/a'}) - ${file.size} bytes, ` +\n",
              "        `last modified: ${\n",
              "            file.lastModifiedDate ? file.lastModifiedDate.toLocaleDateString() :\n",
              "                                    'n/a'} - `));\n",
              "    const percent = span('0% done');\n",
              "    li.appendChild(percent);\n",
              "\n",
              "    outputElement.appendChild(li);\n",
              "\n",
              "    const fileDataPromise = new Promise((resolve) => {\n",
              "      const reader = new FileReader();\n",
              "      reader.onload = (e) => {\n",
              "        resolve(e.target.result);\n",
              "      };\n",
              "      reader.readAsArrayBuffer(file);\n",
              "    });\n",
              "    // Wait for the data to be ready.\n",
              "    let fileData = yield {\n",
              "      promise: fileDataPromise,\n",
              "      response: {\n",
              "        action: 'continue',\n",
              "      }\n",
              "    };\n",
              "\n",
              "    // Use a chunked sending to avoid message size limits. See b/62115660.\n",
              "    let position = 0;\n",
              "    do {\n",
              "      const length = Math.min(fileData.byteLength - position, MAX_PAYLOAD_SIZE);\n",
              "      const chunk = new Uint8Array(fileData, position, length);\n",
              "      position += length;\n",
              "\n",
              "      const base64 = btoa(String.fromCharCode.apply(null, chunk));\n",
              "      yield {\n",
              "        response: {\n",
              "          action: 'append',\n",
              "          file: file.name,\n",
              "          data: base64,\n",
              "        },\n",
              "      };\n",
              "\n",
              "      let percentDone = fileData.byteLength === 0 ?\n",
              "          100 :\n",
              "          Math.round((position / fileData.byteLength) * 100);\n",
              "      percent.textContent = `${percentDone}% done`;\n",
              "\n",
              "    } while (position < fileData.byteLength);\n",
              "  }\n",
              "\n",
              "  // All done.\n",
              "  yield {\n",
              "    response: {\n",
              "      action: 'complete',\n",
              "    }\n",
              "  };\n",
              "}\n",
              "\n",
              "scope.google = scope.google || {};\n",
              "scope.google.colab = scope.google.colab || {};\n",
              "scope.google.colab._files = {\n",
              "  _uploadFiles,\n",
              "  _uploadFilesContinue,\n",
              "};\n",
              "})(self);\n",
              "</script> "
            ],
            "text/plain": [
              "<IPython.core.display.HTML object>"
            ]
          },
          "metadata": {},
          "output_type": "display_data"
        },
        {
          "name": "stdout",
          "output_type": "stream",
          "text": [
            "Saving kaggle.json to kaggle.json\n",
            "Dataset URL: https://www.kaggle.com/datasets/namanj27/ner-dataset\n",
            "License(s): unknown\n",
            "Downloading ner-dataset.zip to /content\n",
            "  0% 0.00/3.17M [00:00<?, ?B/s]\n",
            "100% 3.17M/3.17M [00:00<00:00, 102MB/s]\n",
            "Archive:  /content/ner-dataset.zip\n",
            "  inflating: /content/ner_datasetreference.csv  \n"
          ]
        }
      ],
      "source": [
        "# Import necessary libraries\n",
        "import os\n",
        "import torch\n",
        "from torch.utils.data import DataLoader, RandomSampler, SequentialSampler, TensorDataset\n",
        "from transformers import BertTokenizer, BertForTokenClassification, AdamW, get_linear_schedule_with_warmup\n",
        "import numpy as np\n",
        "import pandas as pd\n",
        "from sklearn.model_selection import train_test_split\n",
        "from tqdm.notebook import tqdm\n",
        "from matplotlib import pyplot as plt\n",
        "from wordcloud import WordCloud\n",
        "from collections import Counter\n",
        "from sklearn.metrics import classification_report\n",
        "import json\n",
        "from google.colab import files\n",
        "\n",
        "# Upload kaggle.json file\n",
        "uploaded = files.upload()\n",
        "\n",
        "# Set up Kaggle credentials\n",
        "with open('kaggle.json', 'r') as f:\n",
        "    kaggle_creds = json.load(f)\n",
        "os.environ['KAGGLE_USERNAME'] = kaggle_creds['username']\n",
        "os.environ['KAGGLE_KEY'] = kaggle_creds['key']\n",
        "\n",
        "# Download the dataset\n",
        "!kaggle datasets download -d namanj27/ner-dataset -p /content\n",
        "!unzip /content/ner-dataset.zip -d /content\n"
      ]
    },
    {
      "cell_type": "markdown",
      "metadata": {
        "id": "J1x6_rsz2xR6"
      },
      "source": [
        "Load and Preprocess the Dataset"
      ]
    },
    {
      "cell_type": "code",
      "execution_count": 4,
      "metadata": {
        "colab": {
          "base_uri": "https://localhost:8080/",
          "height": 261
        },
        "id": "Dht8FkP12roX",
        "outputId": "22d5ce58-f785-4e55-a571-3146c2339238"
      },
      "outputs": [
        {
          "name": "stderr",
          "output_type": "stream",
          "text": [
            "<ipython-input-4-54a568b1dfd4>:3: FutureWarning: DataFrame.fillna with 'method' is deprecated and will raise in a future version. Use obj.ffill() or obj.bfill() instead.\n",
            "  df = pd.read_csv(data_path, encoding='latin1').fillna(method='ffill')\n"
          ]
        },
        {
          "data": {
            "application/vnd.google.colaboratory.intrinsic+json": {
              "type": "dataframe",
              "variable_name": "df"
            },
            "text/html": [
              "\n",
              "  <div id=\"df-61028a26-678e-444a-a1de-00a8c2b9c500\" class=\"colab-df-container\">\n",
              "    <div>\n",
              "<style scoped>\n",
              "    .dataframe tbody tr th:only-of-type {\n",
              "        vertical-align: middle;\n",
              "    }\n",
              "\n",
              "    .dataframe tbody tr th {\n",
              "        vertical-align: top;\n",
              "    }\n",
              "\n",
              "    .dataframe thead th {\n",
              "        text-align: right;\n",
              "    }\n",
              "</style>\n",
              "<table border=\"1\" class=\"dataframe\">\n",
              "  <thead>\n",
              "    <tr style=\"text-align: right;\">\n",
              "      <th></th>\n",
              "      <th>Sentence #</th>\n",
              "      <th>Word</th>\n",
              "      <th>POS</th>\n",
              "      <th>Tag</th>\n",
              "    </tr>\n",
              "  </thead>\n",
              "  <tbody>\n",
              "    <tr>\n",
              "      <th>0</th>\n",
              "      <td>Sentence: 1</td>\n",
              "      <td>Thousands</td>\n",
              "      <td>NNS</td>\n",
              "      <td>O</td>\n",
              "    </tr>\n",
              "    <tr>\n",
              "      <th>1</th>\n",
              "      <td>Sentence: 1</td>\n",
              "      <td>of</td>\n",
              "      <td>IN</td>\n",
              "      <td>O</td>\n",
              "    </tr>\n",
              "    <tr>\n",
              "      <th>2</th>\n",
              "      <td>Sentence: 1</td>\n",
              "      <td>demonstrators</td>\n",
              "      <td>NNS</td>\n",
              "      <td>O</td>\n",
              "    </tr>\n",
              "    <tr>\n",
              "      <th>3</th>\n",
              "      <td>Sentence: 1</td>\n",
              "      <td>have</td>\n",
              "      <td>VBP</td>\n",
              "      <td>O</td>\n",
              "    </tr>\n",
              "    <tr>\n",
              "      <th>4</th>\n",
              "      <td>Sentence: 1</td>\n",
              "      <td>marched</td>\n",
              "      <td>VBN</td>\n",
              "      <td>O</td>\n",
              "    </tr>\n",
              "  </tbody>\n",
              "</table>\n",
              "</div>\n",
              "    <div class=\"colab-df-buttons\">\n",
              "\n",
              "  <div class=\"colab-df-container\">\n",
              "    <button class=\"colab-df-convert\" onclick=\"convertToInteractive('df-61028a26-678e-444a-a1de-00a8c2b9c500')\"\n",
              "            title=\"Convert this dataframe to an interactive table.\"\n",
              "            style=\"display:none;\">\n",
              "\n",
              "  <svg xmlns=\"http://www.w3.org/2000/svg\" height=\"24px\" viewBox=\"0 -960 960 960\">\n",
              "    <path d=\"M120-120v-720h720v720H120Zm60-500h600v-160H180v160Zm220 220h160v-160H400v160Zm0 220h160v-160H400v160ZM180-400h160v-160H180v160Zm440 0h160v-160H620v160ZM180-180h160v-160H180v160Zm440 0h160v-160H620v160Z\"/>\n",
              "  </svg>\n",
              "    </button>\n",
              "\n",
              "  <style>\n",
              "    .colab-df-container {\n",
              "      display:flex;\n",
              "      gap: 12px;\n",
              "    }\n",
              "\n",
              "    .colab-df-convert {\n",
              "      background-color: #E8F0FE;\n",
              "      border: none;\n",
              "      border-radius: 50%;\n",
              "      cursor: pointer;\n",
              "      display: none;\n",
              "      fill: #1967D2;\n",
              "      height: 32px;\n",
              "      padding: 0 0 0 0;\n",
              "      width: 32px;\n",
              "    }\n",
              "\n",
              "    .colab-df-convert:hover {\n",
              "      background-color: #E2EBFA;\n",
              "      box-shadow: 0px 1px 2px rgba(60, 64, 67, 0.3), 0px 1px 3px 1px rgba(60, 64, 67, 0.15);\n",
              "      fill: #174EA6;\n",
              "    }\n",
              "\n",
              "    .colab-df-buttons div {\n",
              "      margin-bottom: 4px;\n",
              "    }\n",
              "\n",
              "    [theme=dark] .colab-df-convert {\n",
              "      background-color: #3B4455;\n",
              "      fill: #D2E3FC;\n",
              "    }\n",
              "\n",
              "    [theme=dark] .colab-df-convert:hover {\n",
              "      background-color: #434B5C;\n",
              "      box-shadow: 0px 1px 3px 1px rgba(0, 0, 0, 0.15);\n",
              "      filter: drop-shadow(0px 1px 2px rgba(0, 0, 0, 0.3));\n",
              "      fill: #FFFFFF;\n",
              "    }\n",
              "  </style>\n",
              "\n",
              "    <script>\n",
              "      const buttonEl =\n",
              "        document.querySelector('#df-61028a26-678e-444a-a1de-00a8c2b9c500 button.colab-df-convert');\n",
              "      buttonEl.style.display =\n",
              "        google.colab.kernel.accessAllowed ? 'block' : 'none';\n",
              "\n",
              "      async function convertToInteractive(key) {\n",
              "        const element = document.querySelector('#df-61028a26-678e-444a-a1de-00a8c2b9c500');\n",
              "        const dataTable =\n",
              "          await google.colab.kernel.invokeFunction('convertToInteractive',\n",
              "                                                    [key], {});\n",
              "        if (!dataTable) return;\n",
              "\n",
              "        const docLinkHtml = 'Like what you see? Visit the ' +\n",
              "          '<a target=\"_blank\" href=https://colab.research.google.com/notebooks/data_table.ipynb>data table notebook</a>'\n",
              "          + ' to learn more about interactive tables.';\n",
              "        element.innerHTML = '';\n",
              "        dataTable['output_type'] = 'display_data';\n",
              "        await google.colab.output.renderOutput(dataTable, element);\n",
              "        const docLink = document.createElement('div');\n",
              "        docLink.innerHTML = docLinkHtml;\n",
              "        element.appendChild(docLink);\n",
              "      }\n",
              "    </script>\n",
              "  </div>\n",
              "\n",
              "\n",
              "<div id=\"df-ae2f6600-3d17-4127-a5ae-55c1e0c59531\">\n",
              "  <button class=\"colab-df-quickchart\" onclick=\"quickchart('df-ae2f6600-3d17-4127-a5ae-55c1e0c59531')\"\n",
              "            title=\"Suggest charts\"\n",
              "            style=\"display:none;\">\n",
              "\n",
              "<svg xmlns=\"http://www.w3.org/2000/svg\" height=\"24px\"viewBox=\"0 0 24 24\"\n",
              "     width=\"24px\">\n",
              "    <g>\n",
              "        <path d=\"M19 3H5c-1.1 0-2 .9-2 2v14c0 1.1.9 2 2 2h14c1.1 0 2-.9 2-2V5c0-1.1-.9-2-2-2zM9 17H7v-7h2v7zm4 0h-2V7h2v10zm4 0h-2v-4h2v4z\"/>\n",
              "    </g>\n",
              "</svg>\n",
              "  </button>\n",
              "\n",
              "<style>\n",
              "  .colab-df-quickchart {\n",
              "      --bg-color: #E8F0FE;\n",
              "      --fill-color: #1967D2;\n",
              "      --hover-bg-color: #E2EBFA;\n",
              "      --hover-fill-color: #174EA6;\n",
              "      --disabled-fill-color: #AAA;\n",
              "      --disabled-bg-color: #DDD;\n",
              "  }\n",
              "\n",
              "  [theme=dark] .colab-df-quickchart {\n",
              "      --bg-color: #3B4455;\n",
              "      --fill-color: #D2E3FC;\n",
              "      --hover-bg-color: #434B5C;\n",
              "      --hover-fill-color: #FFFFFF;\n",
              "      --disabled-bg-color: #3B4455;\n",
              "      --disabled-fill-color: #666;\n",
              "  }\n",
              "\n",
              "  .colab-df-quickchart {\n",
              "    background-color: var(--bg-color);\n",
              "    border: none;\n",
              "    border-radius: 50%;\n",
              "    cursor: pointer;\n",
              "    display: none;\n",
              "    fill: var(--fill-color);\n",
              "    height: 32px;\n",
              "    padding: 0;\n",
              "    width: 32px;\n",
              "  }\n",
              "\n",
              "  .colab-df-quickchart:hover {\n",
              "    background-color: var(--hover-bg-color);\n",
              "    box-shadow: 0 1px 2px rgba(60, 64, 67, 0.3), 0 1px 3px 1px rgba(60, 64, 67, 0.15);\n",
              "    fill: var(--button-hover-fill-color);\n",
              "  }\n",
              "\n",
              "  .colab-df-quickchart-complete:disabled,\n",
              "  .colab-df-quickchart-complete:disabled:hover {\n",
              "    background-color: var(--disabled-bg-color);\n",
              "    fill: var(--disabled-fill-color);\n",
              "    box-shadow: none;\n",
              "  }\n",
              "\n",
              "  .colab-df-spinner {\n",
              "    border: 2px solid var(--fill-color);\n",
              "    border-color: transparent;\n",
              "    border-bottom-color: var(--fill-color);\n",
              "    animation:\n",
              "      spin 1s steps(1) infinite;\n",
              "  }\n",
              "\n",
              "  @keyframes spin {\n",
              "    0% {\n",
              "      border-color: transparent;\n",
              "      border-bottom-color: var(--fill-color);\n",
              "      border-left-color: var(--fill-color);\n",
              "    }\n",
              "    20% {\n",
              "      border-color: transparent;\n",
              "      border-left-color: var(--fill-color);\n",
              "      border-top-color: var(--fill-color);\n",
              "    }\n",
              "    30% {\n",
              "      border-color: transparent;\n",
              "      border-left-color: var(--fill-color);\n",
              "      border-top-color: var(--fill-color);\n",
              "      border-right-color: var(--fill-color);\n",
              "    }\n",
              "    40% {\n",
              "      border-color: transparent;\n",
              "      border-right-color: var(--fill-color);\n",
              "      border-top-color: var(--fill-color);\n",
              "    }\n",
              "    60% {\n",
              "      border-color: transparent;\n",
              "      border-right-color: var(--fill-color);\n",
              "    }\n",
              "    80% {\n",
              "      border-color: transparent;\n",
              "      border-right-color: var(--fill-color);\n",
              "      border-bottom-color: var(--fill-color);\n",
              "    }\n",
              "    90% {\n",
              "      border-color: transparent;\n",
              "      border-bottom-color: var(--fill-color);\n",
              "    }\n",
              "  }\n",
              "</style>\n",
              "\n",
              "  <script>\n",
              "    async function quickchart(key) {\n",
              "      const quickchartButtonEl =\n",
              "        document.querySelector('#' + key + ' button');\n",
              "      quickchartButtonEl.disabled = true;  // To prevent multiple clicks.\n",
              "      quickchartButtonEl.classList.add('colab-df-spinner');\n",
              "      try {\n",
              "        const charts = await google.colab.kernel.invokeFunction(\n",
              "            'suggestCharts', [key], {});\n",
              "      } catch (error) {\n",
              "        console.error('Error during call to suggestCharts:', error);\n",
              "      }\n",
              "      quickchartButtonEl.classList.remove('colab-df-spinner');\n",
              "      quickchartButtonEl.classList.add('colab-df-quickchart-complete');\n",
              "    }\n",
              "    (() => {\n",
              "      let quickchartButtonEl =\n",
              "        document.querySelector('#df-ae2f6600-3d17-4127-a5ae-55c1e0c59531 button');\n",
              "      quickchartButtonEl.style.display =\n",
              "        google.colab.kernel.accessAllowed ? 'block' : 'none';\n",
              "    })();\n",
              "  </script>\n",
              "</div>\n",
              "\n",
              "    </div>\n",
              "  </div>\n"
            ],
            "text/plain": [
              "    Sentence #           Word  POS Tag\n",
              "0  Sentence: 1      Thousands  NNS   O\n",
              "1  Sentence: 1             of   IN   O\n",
              "2  Sentence: 1  demonstrators  NNS   O\n",
              "3  Sentence: 1           have  VBP   O\n",
              "4  Sentence: 1        marched  VBN   O"
            ]
          },
          "execution_count": 4,
          "metadata": {},
          "output_type": "execute_result"
        }
      ],
      "source": [
        "# Load the dataset\n",
        "data_path = \"/content/ner_datasetreference.csv\"\n",
        "df = pd.read_csv(data_path, encoding='latin1').fillna(method='ffill')\n",
        "# Display first few rows of the dataset\n",
        "df.head()\n"
      ]
    },
    {
      "cell_type": "markdown",
      "metadata": {
        "id": "BzXdiQHO3AV8"
      },
      "source": [
        "Prepare the Data for BERT Model"
      ]
    },
    {
      "cell_type": "code",
      "execution_count": 5,
      "metadata": {
        "colab": {
          "base_uri": "https://localhost:8080/",
          "height": 304,
          "referenced_widgets": [
            "de5084333c50476c87607cc6bcec65fb",
            "1c95b9913702414b832b950526842beb",
            "1589d7d3c754495cbae998b0c29b54c8",
            "38d0df82dc074a0b92dc43d6dfe0aa08",
            "0290bb7c3a584d98a0f02adf52e6d42e",
            "16d06b9a89f84b4db5485b0025445482",
            "d3bab3b024b748319966dbcd412c61b3",
            "8ecbec4244a74ee4b947a489f76fc5ae",
            "2fcd5c5ccfc7496bab051fdb09a2bedc",
            "9cd537b6a5214376878b608e876d95ec",
            "c71232dcca8a4bcf9c8cf3f244cbd183",
            "7d0942498f5a4db192751fe52ee7b64d",
            "15a8fc3f54e247f1a4d47beeb58a06dc",
            "4cf6c48798fa44ceb6e126619064a22f",
            "22859045db31484ea6ed96513a0e4599",
            "c809a40aed4248f6be7573aa0213b52a",
            "0b344decc4e3493a9e8b983755a6242c",
            "85e6ebfff35c4ac0b996f3aa1fb9fff4",
            "38703f9c07504bfc8c6081bac5f3ae49",
            "cedfb70ec67b44bcae3db07146ee818b",
            "e8ffb7a8c4ad4888bd3c4ec74f87c645",
            "af73a1d089ca4ff4a60dd6d6454771a0",
            "6770569d4d59412a834c4e5389fddef3",
            "94d9afd73db4499eb9f14d1c3ec85ed9",
            "3a568cf1b7924e68aaac21f01e4acf19",
            "1c5a7a8759084211ad225eb6b9db7394",
            "e2d395d1434241f5b843e674b0908283",
            "434f747bb8504ede82684f960ff034f2",
            "b2ba2be11a824eefa67d85faddd49969",
            "8410d23c30b4480e8f25400f8382a25a",
            "dbfc1d5f40f64541b231f150d131103f",
            "a7542aa93f254948854552f427c193b6",
            "b69f6634edfe4f11ae79dfa1cb67af4b",
            "3bc2b223e62b4510887dc7b2c0b38756",
            "59fb071f0bc84c86bd1c1c023e950be2",
            "9697cec4f2894a0a90b85eeb9516b34e",
            "4e39412530ac489cb8bc05c2f648e97e",
            "7d83b70fcb714b1fbbcbb48a2b1f8f81",
            "0581669d03ce4ed0b5d272ed9306aa2f",
            "1364eeef590349e6b62e6ec2e1b92d97",
            "2e5d34fbe79447b38b4c8aa11f4dab44",
            "615abb105c3446688ae5a07c304dedc0",
            "e6bfcee92f6b48e5b3e436576694949d",
            "9140652560414b8b8eea259a683bba2a"
          ]
        },
        "id": "jLm7PX2-2y4E",
        "outputId": "ecfc48aa-1338-4fac-c1f2-1a3a91c75a0e"
      },
      "outputs": [
        {
          "name": "stderr",
          "output_type": "stream",
          "text": [
            "/usr/local/lib/python3.10/dist-packages/huggingface_hub/utils/_token.py:89: UserWarning: \n",
            "The secret `HF_TOKEN` does not exist in your Colab secrets.\n",
            "To authenticate with the Hugging Face Hub, create a token in your settings tab (https://huggingface.co/settings/tokens), set it as secret in your Google Colab and restart your session.\n",
            "You will be able to reuse this secret in all of your notebooks.\n",
            "Please note that authentication is recommended but still optional to access public models or datasets.\n",
            "  warnings.warn(\n"
          ]
        },
        {
          "data": {
            "application/vnd.jupyter.widget-view+json": {
              "model_id": "de5084333c50476c87607cc6bcec65fb",
              "version_major": 2,
              "version_minor": 0
            },
            "text/plain": [
              "tokenizer_config.json:   0%|          | 0.00/49.0 [00:00<?, ?B/s]"
            ]
          },
          "metadata": {},
          "output_type": "display_data"
        },
        {
          "data": {
            "application/vnd.jupyter.widget-view+json": {
              "model_id": "7d0942498f5a4db192751fe52ee7b64d",
              "version_major": 2,
              "version_minor": 0
            },
            "text/plain": [
              "vocab.txt:   0%|          | 0.00/213k [00:00<?, ?B/s]"
            ]
          },
          "metadata": {},
          "output_type": "display_data"
        },
        {
          "data": {
            "application/vnd.jupyter.widget-view+json": {
              "model_id": "6770569d4d59412a834c4e5389fddef3",
              "version_major": 2,
              "version_minor": 0
            },
            "text/plain": [
              "tokenizer.json:   0%|          | 0.00/436k [00:00<?, ?B/s]"
            ]
          },
          "metadata": {},
          "output_type": "display_data"
        },
        {
          "data": {
            "application/vnd.jupyter.widget-view+json": {
              "model_id": "3bc2b223e62b4510887dc7b2c0b38756",
              "version_major": 2,
              "version_minor": 0
            },
            "text/plain": [
              "config.json:   0%|          | 0.00/570 [00:00<?, ?B/s]"
            ]
          },
          "metadata": {},
          "output_type": "display_data"
        },
        {
          "name": "stderr",
          "output_type": "stream",
          "text": [
            "/usr/local/lib/python3.10/dist-packages/transformers/tokenization_utils_base.py:1601: FutureWarning: `clean_up_tokenization_spaces` was not set. It will be set to `True` by default. This behavior will be depracted in transformers v4.45, and will be then set to `False` by default. For more details check this issue: https://github.com/huggingface/transformers/issues/31884\n",
            "  warnings.warn(\n"
          ]
        }
      ],
      "source": [
        "# Initialize BERT tokenizer\n",
        "tokenizer = BertTokenizer.from_pretrained('bert-base-cased')\n",
        "\n",
        "# Tokenize and prepare the dataset for training\n",
        "def tokenize_and_format_data(df, tokenizer):\n",
        "    sentences = df.groupby(\"Sentence #\")[\"Word\"].apply(list).values\n",
        "    labels = df.groupby(\"Sentence #\")[\"Tag\"].apply(list).values\n",
        "\n",
        "    input_ids, attention_masks, label_ids = [], [], []\n",
        "\n",
        "    for sentence, label in zip(sentences, labels):\n",
        "        tokens = tokenizer.encode(sentence, is_split_into_words=True, truncation=True, max_length=128)\n",
        "        input_ids.append(tokens)\n",
        "        attention_masks.append([1] * len(tokens))\n",
        "        label_ids.append([tag2idx.get(tag, tag2idx[\"O\"]) for tag in label])\n",
        "\n",
        "    return input_ids, attention_masks, label_ids\n",
        "\n",
        "# Create a mapping for the entity tags to numerical labels\n",
        "tags = df['Tag'].unique()\n",
        "tag2idx = {tag: idx for idx, tag in enumerate(tags)}\n",
        "idx2tag = {idx: tag for tag, idx in tag2idx.items()}\n",
        "\n",
        "input_ids, attention_masks, label_ids = tokenize_and_format_data(df, tokenizer)\n"
      ]
    },
    {
      "cell_type": "markdown",
      "metadata": {
        "id": "IswwqdZt3Ip5"
      },
      "source": [
        "Split the Data into Training and Testing Sets"
      ]
    },
    {
      "cell_type": "code",
      "execution_count": 7,
      "metadata": {
        "id": "PrijjtuD3Cqq"
      },
      "outputs": [],
      "source": [
        "from torch.nn.utils.rnn import pad_sequence\n",
        "\n",
        "# Pad the sequences to the maximum length\n",
        "def pad_sequences(sequences, max_length=128):\n",
        "    padded_sequences = []\n",
        "    for seq in sequences:\n",
        "        if len(seq) < max_length:\n",
        "            seq = seq + [0] * (max_length - len(seq))\n",
        "        else:\n",
        "            seq = seq[:max_length]\n",
        "        padded_sequences.append(seq)\n",
        "    return padded_sequences\n",
        "\n",
        "# Pad inputs and labels\n",
        "train_inputs = pad_sequences(train_inputs)\n",
        "test_inputs = pad_sequences(test_inputs)\n",
        "train_labels = pad_sequences(train_labels)\n",
        "test_labels = pad_sequences(test_labels)\n",
        "\n",
        "# Convert lists to tensors\n",
        "train_inputs = torch.tensor(train_inputs)\n",
        "train_labels = torch.tensor(train_labels)\n",
        "test_inputs = torch.tensor(test_inputs)\n",
        "test_labels = torch.tensor(test_labels)\n",
        "\n",
        "# Create the DataLoader for training and testing\n",
        "batch_size = 16\n",
        "\n",
        "train_dataset = TensorDataset(train_inputs, train_labels)\n",
        "train_dataloader = DataLoader(train_dataset, sampler=RandomSampler(train_dataset), batch_size=batch_size)\n",
        "\n",
        "test_dataset = TensorDataset(test_inputs, test_labels)\n",
        "test_dataloader = DataLoader(test_dataset, sampler=SequentialSampler(test_dataset), batch_size=batch_size)\n"
      ]
    },
    {
      "cell_type": "markdown",
      "metadata": {
        "id": "sBoMaVk33gHb"
      },
      "source": [
        "Initialize the BERT Model"
      ]
    },
    {
      "cell_type": "code",
      "execution_count": 8,
      "metadata": {
        "colab": {
          "base_uri": "https://localhost:8080/",
          "height": 850,
          "referenced_widgets": [
            "d116aae0c3694cf4a665f6689d57451d",
            "84573bc03591459da28f32a6f3ad003a",
            "0af68462c1ab4258865f2eaeaad83118",
            "aaa40aef9e084aff8823de99aeff265d",
            "44c4d76d81394d93a34f05f63513ef2b",
            "b53a185663104950b360e9022cc4e7b8",
            "cb05b00814904026b6f112d760ad7ff6",
            "5e4abb05cf554a3bb227f69e207ea889",
            "f4e4bfc79c714983a41ef3d6e3d9db9d",
            "832bc4c4ea444414b60235b5617d6d4c",
            "bfc5d70e1c97429392347330b4553cbe"
          ]
        },
        "id": "Qco4i0bA3KbY",
        "outputId": "83c2bcce-80b7-4b6a-c9c0-1a1662236115"
      },
      "outputs": [
        {
          "data": {
            "application/vnd.jupyter.widget-view+json": {
              "model_id": "d116aae0c3694cf4a665f6689d57451d",
              "version_major": 2,
              "version_minor": 0
            },
            "text/plain": [
              "model.safetensors:   0%|          | 0.00/436M [00:00<?, ?B/s]"
            ]
          },
          "metadata": {},
          "output_type": "display_data"
        },
        {
          "name": "stderr",
          "output_type": "stream",
          "text": [
            "Some weights of BertForTokenClassification were not initialized from the model checkpoint at bert-base-cased and are newly initialized: ['classifier.bias', 'classifier.weight']\n",
            "You should probably TRAIN this model on a down-stream task to be able to use it for predictions and inference.\n",
            "/usr/local/lib/python3.10/dist-packages/transformers/optimization.py:591: FutureWarning: This implementation of AdamW is deprecated and will be removed in a future version. Use the PyTorch implementation torch.optim.AdamW instead, or set `no_deprecation_warning=True` to disable this warning\n",
            "  warnings.warn(\n"
          ]
        },
        {
          "data": {
            "text/plain": [
              "BertForTokenClassification(\n",
              "  (bert): BertModel(\n",
              "    (embeddings): BertEmbeddings(\n",
              "      (word_embeddings): Embedding(28996, 768, padding_idx=0)\n",
              "      (position_embeddings): Embedding(512, 768)\n",
              "      (token_type_embeddings): Embedding(2, 768)\n",
              "      (LayerNorm): LayerNorm((768,), eps=1e-12, elementwise_affine=True)\n",
              "      (dropout): Dropout(p=0.1, inplace=False)\n",
              "    )\n",
              "    (encoder): BertEncoder(\n",
              "      (layer): ModuleList(\n",
              "        (0-11): 12 x BertLayer(\n",
              "          (attention): BertAttention(\n",
              "            (self): BertSdpaSelfAttention(\n",
              "              (query): Linear(in_features=768, out_features=768, bias=True)\n",
              "              (key): Linear(in_features=768, out_features=768, bias=True)\n",
              "              (value): Linear(in_features=768, out_features=768, bias=True)\n",
              "              (dropout): Dropout(p=0.1, inplace=False)\n",
              "            )\n",
              "            (output): BertSelfOutput(\n",
              "              (dense): Linear(in_features=768, out_features=768, bias=True)\n",
              "              (LayerNorm): LayerNorm((768,), eps=1e-12, elementwise_affine=True)\n",
              "              (dropout): Dropout(p=0.1, inplace=False)\n",
              "            )\n",
              "          )\n",
              "          (intermediate): BertIntermediate(\n",
              "            (dense): Linear(in_features=768, out_features=3072, bias=True)\n",
              "            (intermediate_act_fn): GELUActivation()\n",
              "          )\n",
              "          (output): BertOutput(\n",
              "            (dense): Linear(in_features=3072, out_features=768, bias=True)\n",
              "            (LayerNorm): LayerNorm((768,), eps=1e-12, elementwise_affine=True)\n",
              "            (dropout): Dropout(p=0.1, inplace=False)\n",
              "          )\n",
              "        )\n",
              "      )\n",
              "    )\n",
              "  )\n",
              "  (dropout): Dropout(p=0.1, inplace=False)\n",
              "  (classifier): Linear(in_features=768, out_features=17, bias=True)\n",
              ")"
            ]
          },
          "execution_count": 8,
          "metadata": {},
          "output_type": "execute_result"
        }
      ],
      "source": [
        "# Load pre-trained BERT model for token classification\n",
        "model = BertForTokenClassification.from_pretrained('bert-base-cased', num_labels=len(tag2idx))\n",
        "\n",
        "# Set the optimizer\n",
        "optimizer = AdamW(model.parameters(), lr=3e-5)\n",
        "\n",
        "# Set the learning rate scheduler\n",
        "epochs = 3\n",
        "total_steps = len(train_dataloader) * epochs\n",
        "scheduler = get_linear_schedule_with_warmup(optimizer, num_warmup_steps=0, num_training_steps=total_steps)\n",
        "\n",
        "# Move model to GPU if available\n",
        "device = torch.device(\"cuda\" if torch.cuda.is_available() else \"cpu\")\n",
        "model.to(device)\n"
      ]
    },
    {
      "cell_type": "markdown",
      "metadata": {
        "id": "mbDNM55t3nOA"
      },
      "source": [
        "Train the model"
      ]
    },
    {
      "cell_type": "code",
      "execution_count": 11,
      "metadata": {
        "colab": {
          "base_uri": "https://localhost:8080/",
          "height": 254,
          "referenced_widgets": [
            "35e4d73c43f64a18a1eccf6285cccc0a",
            "d89c11eee29c45e7ad1d9111dd807bd5",
            "0c0499e445d4456096c9e156348cbf12",
            "cc78030949aa4a389eb1ff40763c1ecb",
            "aa43000367b044f991b077e445938d74",
            "624d76aea1414b4a9f724ec17bf8c83f",
            "fb245f2c692b4f6d9258d2e2741647e6",
            "d4ee1701b19e4700bfd76fdd4af8e73e",
            "934e7213666645cb9271598e3eff7128",
            "cf0cb618e2344e1485a456c1932ec923",
            "bb8a314e0ddf4a0aa522af16748df20e",
            "b9c6e343a526414d80ff70e78f55c46c",
            "51d469d638724cb2861f4508d80fb22f",
            "efd1edaa8f6d41cd8287dec9f5f2796a",
            "cf1825823bed4d8cad722f1e984a3a00",
            "edaad513858e422f9c43a4f77ae9db58",
            "101cf1abed314a4c869e2fe4c774e32e",
            "87744cb839354fd281851bc1a3f06bed",
            "11f1fd4d534b424495ce5add9b349f1c",
            "0ba7ca767da1479784bedfca258616b8",
            "5aef6633cbc54e42ae8a4b03950693bb",
            "a85b5c4e1d914921b38a2a2387014df1",
            "2bd3cf91e78d40198d0fbf48e3357f8d",
            "cc472958d31b46939a5754fd40dfa0a7",
            "dce183d9eb2e4342bd83f30ff9bc9203",
            "8d25dc2d807244939e167342881521ef",
            "5348b93d41a34d71945e3fddd9f7a9e7",
            "fd6f3c3c81e94c4f96bf79b0d671ad1f",
            "81cc497ede4841afb989018ee8a45d09",
            "ebd61b91239f4c9ba43e28f0ab52664c",
            "81b2946d8bfc41b59b79e4ae3bf6edef",
            "a01ed297a5b7432087a686186322b597",
            "16095237de134b989ee0a338814af042"
          ]
        },
        "id": "VHcmUqfU3iCc",
        "outputId": "e66a4cb5-3b9a-41ae-8123-4fc20ec7edbf"
      },
      "outputs": [
        {
          "name": "stderr",
          "output_type": "stream",
          "text": [
            "<ipython-input-11-8d364e273169>:9: FutureWarning: `torch.cuda.amp.GradScaler(args...)` is deprecated. Please use `torch.amp.GradScaler('cuda', args...)` instead.\n",
            "  scaler = GradScaler()  # for mixed precision training\n"
          ]
        },
        {
          "data": {
            "application/vnd.jupyter.widget-view+json": {
              "model_id": "35e4d73c43f64a18a1eccf6285cccc0a",
              "version_major": 2,
              "version_minor": 0
            },
            "text/plain": [
              "Epoch 1:   0%|          | 0/2398 [00:00<?, ?it/s]"
            ]
          },
          "metadata": {},
          "output_type": "display_data"
        },
        {
          "name": "stderr",
          "output_type": "stream",
          "text": [
            "<ipython-input-11-8d364e273169>:24: FutureWarning: `torch.cuda.amp.autocast(args...)` is deprecated. Please use `torch.amp.autocast('cuda', args...)` instead.\n",
            "  with autocast():\n"
          ]
        },
        {
          "name": "stdout",
          "output_type": "stream",
          "text": [
            "Epoch 1 - Training Loss: 0.0599\n"
          ]
        },
        {
          "data": {
            "application/vnd.jupyter.widget-view+json": {
              "model_id": "b9c6e343a526414d80ff70e78f55c46c",
              "version_major": 2,
              "version_minor": 0
            },
            "text/plain": [
              "Epoch 2:   0%|          | 0/2398 [00:00<?, ?it/s]"
            ]
          },
          "metadata": {},
          "output_type": "display_data"
        },
        {
          "name": "stdout",
          "output_type": "stream",
          "text": [
            "Epoch 2 - Training Loss: 0.0576\n"
          ]
        },
        {
          "data": {
            "application/vnd.jupyter.widget-view+json": {
              "model_id": "2bd3cf91e78d40198d0fbf48e3357f8d",
              "version_major": 2,
              "version_minor": 0
            },
            "text/plain": [
              "Epoch 3:   0%|          | 0/2398 [00:00<?, ?it/s]"
            ]
          },
          "metadata": {},
          "output_type": "display_data"
        },
        {
          "name": "stdout",
          "output_type": "stream",
          "text": [
            "Epoch 3 - Training Loss: 0.0569\n"
          ]
        }
      ],
      "source": [
        "from torch.cuda.amp import GradScaler, autocast\n",
        "\n",
        "# Set up device\n",
        "device = torch.device(\"cuda\" if torch.cuda.is_available() else \"cpu\")\n",
        "model.to(device)\n",
        "\n",
        "# Training loop setup\n",
        "train_loss_list = []\n",
        "scaler = GradScaler()  # for mixed precision training\n",
        "\n",
        "for epoch in range(epochs):\n",
        "    model.train()\n",
        "    total_loss = 0\n",
        "\n",
        "    # Use tqdm to track progress\n",
        "    for step, batch in enumerate(tqdm(train_dataloader, desc=f\"Epoch {epoch + 1}\")):\n",
        "        batch_input_ids, batch_labels = batch\n",
        "        batch_input_ids, batch_labels = batch_input_ids.to(device), batch_labels.to(device)\n",
        "\n",
        "        # Zero the gradients\n",
        "        optimizer.zero_grad()\n",
        "\n",
        "        # Mixed precision forward pass\n",
        "        with autocast():\n",
        "            outputs = model(batch_input_ids, labels=batch_labels)\n",
        "            loss = outputs.loss\n",
        "\n",
        "        # Backward pass with mixed precision\n",
        "        scaler.scale(loss).backward()\n",
        "\n",
        "        # Gradient clipping (optional for stability)\n",
        "        torch.nn.utils.clip_grad_norm_(model.parameters(), max_norm=1.0)\n",
        "\n",
        "        # Step using the scaler\n",
        "        scaler.step(optimizer)\n",
        "        scaler.update()\n",
        "\n",
        "        # Scheduler step (if any)\n",
        "        scheduler.step()\n",
        "\n",
        "        # Accumulate the loss\n",
        "        total_loss += loss.item()\n",
        "\n",
        "    # Compute the average loss over all batches\n",
        "    avg_loss = total_loss / len(train_dataloader)\n",
        "    train_loss_list.append(avg_loss)\n",
        "\n",
        "    # Print the average loss for the epoch\n",
        "    print(f\"Epoch {epoch + 1} - Training Loss: {avg_loss:.4f}\")\n"
      ]
    },
    {
      "cell_type": "markdown",
      "metadata": {
        "id": "KuijKPvP3qxr"
      },
      "source": [
        "Evaluate the Model"
      ]
    },
    {
      "cell_type": "code",
      "execution_count": 13,
      "metadata": {
        "colab": {
          "base_uri": "https://localhost:8080/",
          "height": 49,
          "referenced_widgets": [
            "1854e593584b4c368b5ef07194c79ece",
            "8179420172314e448c44e7456058e263",
            "aa2174c4451240a9b40692ab8a291520",
            "4f048bfd66cd465a838066cef39fbffd",
            "211c92fe266f4f8fbd5c8a14f7dbe020",
            "b82a4ea9248b42819bc3b7bc1adff85a",
            "122494bcbb81491997e4a7ef78d4aa63",
            "38aac96ec71442ac9ce5b1393e0d3c6f",
            "5770897c5a1d4c48b213e26ab2086cef",
            "1ff56147fd6b42a69b78d6a1cb09c549",
            "f61da290e20a441cb0ad9dc8a0b6ddae"
          ]
        },
        "id": "qmV_W_eK3miA",
        "outputId": "d599d195-e2cd-4b24-dcbf-2533aa82c4ce"
      },
      "outputs": [
        {
          "data": {
            "application/vnd.jupyter.widget-view+json": {
              "model_id": "1854e593584b4c368b5ef07194c79ece",
              "version_major": 2,
              "version_minor": 0
            },
            "text/plain": [
              "Evaluating:   0%|          | 0/600 [00:00<?, ?it/s]"
            ]
          },
          "metadata": {},
          "output_type": "display_data"
        }
      ],
      "source": [
        "model.eval()\n",
        "pred_labels = []  # Initialize empty list for predicted labels\n",
        "true_labels = []  # Initialize empty list for true labels\n",
        "\n",
        "# Evaluate the model\n",
        "with torch.no_grad():\n",
        "    for batch in tqdm(test_dataloader, desc=\"Evaluating\"):\n",
        "        batch_input_ids, batch_labels = batch\n",
        "        batch_input_ids, batch_labels = batch_input_ids.to(device), batch_labels.to(device)\n",
        "\n",
        "        # Forward pass\n",
        "        outputs = model(batch_input_ids)\n",
        "        logits = outputs.logits\n",
        "\n",
        "        # Get the predicted labels\n",
        "        predictions = torch.argmax(logits, dim=-1)\n",
        "\n",
        "        # Append the predicted and true labels\n",
        "        pred_labels.extend(predictions.cpu().numpy())\n",
        "        true_labels.extend(batch_labels.cpu().numpy())\n",
        "\n",
        "# Now `pred_labels` and `true_labels` contain the predictions and true labels respectively\n"
      ]
    },
    {
      "cell_type": "code",
      "execution_count": 14,
      "metadata": {
        "colab": {
          "base_uri": "https://localhost:8080/"
        },
        "id": "Bo3frDHK8lbm",
        "outputId": "68bc8036-edc5-4278-ca75-cf07e46e685a"
      },
      "outputs": [
        {
          "name": "stderr",
          "output_type": "stream",
          "text": [
            "/usr/local/lib/python3.10/dist-packages/sklearn/metrics/_classification.py:1531: UndefinedMetricWarning: Precision is ill-defined and being set to 0.0 in labels with no predicted samples. Use `zero_division` parameter to control this behavior.\n",
            "  _warn_prf(average, modifier, f\"{metric.capitalize()} is\", len(result))\n",
            "/usr/local/lib/python3.10/dist-packages/sklearn/metrics/_classification.py:1531: UndefinedMetricWarning: Precision is ill-defined and being set to 0.0 in labels with no predicted samples. Use `zero_division` parameter to control this behavior.\n",
            "  _warn_prf(average, modifier, f\"{metric.capitalize()} is\", len(result))\n"
          ]
        },
        {
          "name": "stdout",
          "output_type": "stream",
          "text": [
            "              precision    recall  f1-score   support\n",
            "\n",
            "           O       0.99      1.00      0.99   1195536\n",
            "       B-geo       0.77      0.40      0.53      7558\n",
            "       B-gpe       0.79      0.54      0.64      3142\n",
            "       B-per       0.64      0.57      0.60      3400\n",
            "       I-geo       0.81      0.21      0.34      1462\n",
            "       B-org       0.78      0.37      0.50      4151\n",
            "       I-org       0.73      0.45      0.56      3394\n",
            "       B-tim       0.77      0.37      0.50      4077\n",
            "       B-art       0.00      0.00      0.00        94\n",
            "       I-art       0.00      0.00      0.00        84\n",
            "       I-per       0.61      0.78      0.68      3406\n",
            "       I-gpe       0.00      0.00      0.00        33\n",
            "       I-tim       0.50      0.30      0.37      1251\n",
            "       B-nat       0.00      0.00      0.00        40\n",
            "       B-eve       0.00      0.00      0.00        70\n",
            "       I-eve       0.00      0.00      0.00        65\n",
            "       I-nat       0.00      0.00      0.00        13\n",
            "\n",
            "    accuracy                           0.98   1227776\n",
            "   macro avg       0.43      0.29      0.34   1227776\n",
            "weighted avg       0.98      0.98      0.98   1227776\n",
            "\n"
          ]
        },
        {
          "name": "stderr",
          "output_type": "stream",
          "text": [
            "/usr/local/lib/python3.10/dist-packages/sklearn/metrics/_classification.py:1531: UndefinedMetricWarning: Precision is ill-defined and being set to 0.0 in labels with no predicted samples. Use `zero_division` parameter to control this behavior.\n",
            "  _warn_prf(average, modifier, f\"{metric.capitalize()} is\", len(result))\n"
          ]
        }
      ],
      "source": [
        "pred_labels_flat = [label for pred in pred_labels for label in pred]\n",
        "true_labels_flat = [label for true in true_labels for label in true]\n",
        "\n",
        "# Remove padding labels\n",
        "filtered_preds = [pred for true, pred in zip(true_labels_flat, pred_labels_flat) if true != -100]\n",
        "filtered_true = [true for true in true_labels_flat if true != -100]\n",
        "\n",
        "# Print classification report\n",
        "print(classification_report(filtered_true, filtered_preds, target_names=tag2idx.keys()))"
      ]
    },
    {
      "cell_type": "markdown",
      "metadata": {
        "id": "buHCYvO33uCp"
      },
      "source": [
        " Plot Training Loss"
      ]
    },
    {
      "cell_type": "code",
      "execution_count": 15,
      "metadata": {
        "colab": {
          "base_uri": "https://localhost:8080/",
          "height": 437
        },
        "id": "2aXSPAjH3sZs",
        "outputId": "b49b1d69-7943-485b-a581-ac5921a6418d"
      },
      "outputs": [
        {
          "data": {
            "image/png": "[encoded data removed]",
            "text/plain": [
              "<Figure size 1000x600 with 1 Axes>"
            ]
          },
          "metadata": {},
          "output_type": "display_data"
        }
      ],
      "source": [
        "# Plotting Training Loss\n",
        "plt.figure(figsize=(10, 6))\n",
        "plt.plot(range(1, len(train_loss_list) + 1), train_loss_list, marker='o', label='Training Loss')\n",
        "plt.xlabel('Epoch')\n",
        "plt.ylabel('Loss')\n",
        "plt.title('Training Loss over Epochs')\n",
        "plt.legend()\n",
        "plt.grid()\n",
        "plt.show()\n"
      ]
    },
    {
      "cell_type": "markdown",
      "metadata": {
        "id": "iPyJ5OGq3zil"
      },
      "source": [
        "Create Word Cloud for Named Entities"
      ]
    },
    {
      "cell_type": "code",
      "execution_count": 18,
      "metadata": {
        "colab": {
          "base_uri": "https://localhost:8080/"
        },
        "id": "stZCOekQ3va3",
        "outputId": "c14c3878-826c-4caf-8abe-865792eaad90"
      },
      "outputs": [
        {
          "name": "stdout",
          "output_type": "stream",
          "text": [
            "Word: [CLS], Label: B-per\n",
            "Word: [CLS], Label: I-per\n",
            "Word: [CLS], Label: B-org\n",
            "Word: [CLS], Label: B-gpe\n",
            "Word: [CLS], Label: B-geo\n",
            "Word: [CLS], Label: B-per\n",
            "Word: [CLS], Label: I-per\n",
            "Word: [CLS], Label: B-gpe\n",
            "Word: [CLS], Label: B-per\n",
            "Word: [CLS], Label: I-per\n",
            "Word: [CLS], Label: I-per\n",
            "Word: [CLS], Label: B-per\n",
            "Word: [CLS], Label: B-geo\n",
            "Word: [CLS], Label: B-geo\n",
            "Word: [CLS], Label: I-org\n",
            "Word: [CLS], Label: I-org\n",
            "Word: [CLS], Label: I-org\n",
            "Word: [CLS], Label: B-per\n",
            "Word: [CLS], Label: I-per\n",
            "Word: [CLS], Label: B-per\n",
            "Word: [CLS], Label: I-per\n",
            "Word: [CLS], Label: B-gpe\n",
            "Word: [CLS], Label: B-tim\n",
            "Word: [CLS], Label: I-tim\n",
            "Word: [CLS], Label: B-per\n",
            "Word: [CLS], Label: I-per\n",
            "Word: [CLS], Label: B-geo\n",
            "Word: [CLS], Label: B-per\n",
            "Word: [CLS], Label: B-per\n",
            "Word: [CLS], Label: I-per\n",
            "Word: [CLS], Label: I-per\n",
            "Word: [CLS], Label: B-gpe\n",
            "Word: [CLS], Label: B-org\n",
            "Word: [CLS], Label: I-org\n",
            "Word: [CLS], Label: B-geo\n",
            "Word: [CLS], Label: B-per\n",
            "Word: [CLS], Label: I-per\n",
            "Word: [CLS], Label: B-geo\n",
            "Word: [CLS], Label: B-org\n",
            "Word: [CLS], Label: B-per\n",
            "Word: [CLS], Label: I-per\n",
            "Word: [CLS], Label: B-tim\n",
            "Word: [CLS], Label: B-per\n",
            "Word: [CLS], Label: I-per\n",
            "Word: [CLS], Label: I-per\n",
            "Word: [CLS], Label: I-per\n",
            "Word: [CLS], Label: B-geo\n",
            "Word: [CLS], Label: B-org\n",
            "Word: [CLS], Label: B-per\n",
            "Word: [CLS], Label: I-per\n",
            "Word: [CLS], Label: B-geo\n",
            "Word: [CLS], Label: B-gpe\n",
            "Word: [CLS], Label: B-per\n",
            "Word: [CLS], Label: I-per\n",
            "Word: [CLS], Label: I-per\n",
            "Word: [CLS], Label: I-per\n",
            "Word: [CLS], Label: I-per\n",
            "Word: [CLS], Label: B-tim\n",
            "Word: [CLS], Label: I-tim\n",
            "Word: [CLS], Label: I-tim\n",
            "Word: [CLS], Label: I-tim\n",
            "Word: [CLS], Label: B-geo\n",
            "Word: [CLS], Label: B-tim\n",
            "Word: [CLS], Label: B-org\n",
            "Word: [CLS], Label: I-org\n",
            "Word: [CLS], Label: I-org\n",
            "Word: [CLS], Label: I-org\n",
            "Word: [CLS], Label: I-org\n",
            "Word: [CLS], Label: I-org\n",
            "Word: [CLS], Label: B-geo\n",
            "Word: [CLS], Label: B-geo\n",
            "Word: [CLS], Label: B-per\n",
            "Word: [CLS], Label: I-per\n",
            "Word: [CLS], Label: I-per\n",
            "Word: [CLS], Label: I-per\n",
            "Word: [CLS], Label: B-gpe\n",
            "Word: [CLS], Label: B-geo\n",
            "Word: [CLS], Label: B-gpe\n",
            "Word: [CLS], Label: B-geo\n",
            "Word: [CLS], Label: B-org\n",
            "Word: [CLS], Label: B-gpe\n",
            "Word: [CLS], Label: B-per\n",
            "Word: [CLS], Label: I-per\n",
            "Word: [CLS], Label: B-per\n",
            "Word: [CLS], Label: I-per\n",
            "Word: [CLS], Label: B-tim\n",
            "Word: [CLS], Label: B-gpe\n",
            "Word: [CLS], Label: B-per\n",
            "Word: [CLS], Label: I-per\n",
            "Word: [CLS], Label: I-per\n",
            "Word: [CLS], Label: I-per\n",
            "Word: [CLS], Label: B-per\n",
            "Word: [CLS], Label: I-per\n",
            "Word: [CLS], Label: B-org\n",
            "Word: [CLS], Label: B-gpe\n",
            "Word: [CLS], Label: B-geo\n",
            "Word: [CLS], Label: B-per\n",
            "Word: [CLS], Label: B-per\n",
            "Word: [CLS], Label: I-per\n",
            "Word: [CLS], Label: I-per\n",
            "Word: [CLS], Label: B-org\n",
            "Word: [CLS], Label: B-per\n",
            "Word: [CLS], Label: B-per\n",
            "Word: [CLS], Label: I-per\n",
            "Word: [CLS], Label: I-per\n",
            "Word: [CLS], Label: B-tim\n",
            "Word: [CLS], Label: B-tim\n",
            "Word: [CLS], Label: I-tim\n",
            "Word: [CLS], Label: B-per\n",
            "Word: [CLS], Label: B-per\n",
            "Word: [CLS], Label: B-org\n",
            "Word: [CLS], Label: B-org\n",
            "Word: [CLS], Label: B-per\n",
            "Word: [CLS], Label: B-org\n",
            "Word: [CLS], Label: I-org\n",
            "Word: [CLS], Label: B-per\n",
            "Word: [CLS], Label: I-per\n",
            "Word: [CLS], Label: I-per\n",
            "Word: [CLS], Label: B-tim\n",
            "Word: [CLS], Label: B-per\n",
            "Word: [CLS], Label: I-per\n",
            "Word: [CLS], Label: B-tim\n",
            "Word: [CLS], Label: I-tim\n",
            "Word: [CLS], Label: I-tim\n",
            "Word: [CLS], Label: B-geo\n",
            "Word: [CLS], Label: I-per\n",
            "Word: [CLS], Label: I-per\n",
            "Word: [CLS], Label: B-tim\n",
            "Word: [CLS], Label: B-tim\n",
            "Word: [CLS], Label: B-geo\n",
            "Word: [CLS], Label: I-org\n",
            "Word: [CLS], Label: B-gpe\n",
            "Word: [CLS], Label: B-per\n",
            "Word: [CLS], Label: I-per\n",
            "Word: [CLS], Label: I-per\n",
            "Word: [CLS], Label: B-gpe\n",
            "Word: [CLS], Label: I-org\n",
            "Word: [CLS], Label: I-org\n",
            "Word: [CLS], Label: I-org\n",
            "Word: [CLS], Label: I-org\n",
            "Word: [CLS], Label: B-gpe\n",
            "Word: [CLS], Label: B-per\n",
            "Word: [CLS], Label: I-per\n",
            "Word: [CLS], Label: I-tim\n",
            "Word: [CLS], Label: B-tim\n",
            "Word: [CLS], Label: B-org\n",
            "Word: [CLS], Label: I-org\n",
            "Word: [CLS], Label: I-org\n",
            "Word: [CLS], Label: I-org\n",
            "Word: [CLS], Label: B-geo\n",
            "Word: [CLS], Label: B-gpe\n",
            "Word: [CLS], Label: B-gpe\n",
            "Word: [CLS], Label: B-org\n",
            "Word: [CLS], Label: I-org\n",
            "Word: [CLS], Label: B-gpe\n",
            "Word: [CLS], Label: B-geo\n",
            "Word: [CLS], Label: B-gpe\n",
            "Word: [CLS], Label: B-tim\n",
            "Word: [CLS], Label: B-geo\n",
            "Word: [CLS], Label: B-tim\n",
            "Word: [CLS], Label: B-gpe\n",
            "Word: [CLS], Label: B-geo\n",
            "Word: [CLS], Label: I-tim\n",
            "Word: [CLS], Label: I-tim\n",
            "Word: [CLS], Label: I-tim\n",
            "Word: [CLS], Label: I-tim\n",
            "Word: [CLS], Label: I-tim\n",
            "Word: [CLS], Label: I-tim\n",
            "Word: [CLS], Label: B-tim\n",
            "Word: [CLS], Label: B-tim\n",
            "Word: [CLS], Label: B-geo\n",
            "Word: [CLS], Label: B-gpe\n",
            "Word: [CLS], Label: B-per\n",
            "Word: [CLS], Label: I-per\n",
            "Word: [CLS], Label: I-per\n",
            "Word: [CLS], Label: B-geo\n",
            "Word: [CLS], Label: B-geo\n",
            "Word: [CLS], Label: B-per\n",
            "Word: [CLS], Label: B-gpe\n",
            "Word: [CLS], Label: B-geo\n",
            "Word: [CLS], Label: I-geo\n",
            "Word: [CLS], Label: B-tim\n",
            "No entities found to generate a word cloud.\n"
          ]
        }
      ],
      "source": [
        "# Extract named entities\n",
        "entity_words = []\n",
        "\n",
        "for sentence, labels in zip(test_inputs[:len(test_labels)], filtered_preds[:len(test_labels)]):\n",
        "    # Make sure labels are treated as a sequence, not a single integer\n",
        "    if isinstance(labels, (int, np.int64)):  # If it's just an int, make it iterable\n",
        "        labels = [labels]\n",
        "\n",
        "    for word, label_id in zip(sentence, labels):\n",
        "        if label_id != tag2idx['O']:\n",
        "            word = tokenizer.decode([word])\n",
        "            print(f\"Word: {word}, Label: {idx2tag[label_id]}\")\n",
        "\n",
        "\n",
        "# Count occurrences\n",
        "# Check if entity_counts has any data\n",
        "if len(entity_counts) > 0:\n",
        "    # Generate word cloud\n",
        "    wordcloud = WordCloud(width=800, height=400, background_color='white').generate_from_frequencies(entity_counts)\n",
        "\n",
        "    # Display word cloud\n",
        "    plt.figure(figsize=(10, 5))\n",
        "    plt.imshow(wordcloud, interpolation='bilinear')\n",
        "    plt.axis('off')\n",
        "    plt.show()\n",
        "else:\n",
        "    print(\"No entities found to generate a word cloud.\")\n"
      ]
    },
    {
      "cell_type": "code",
      "execution_count": null,
      "metadata": {},
      "outputs": [],
      "source": []
    }
  ],
  "metadata": {
    "accelerator": "GPU",
    "colab": {
      "gpuType": "T4",
      "provenance": []
    },
    "kernelspec": {
      "display_name": "Python 3 (ipykernel)",
      "language": "python",
      "name": "python3"
    },
    "language_info": {
      "codemirror_mode": {
        "name": "ipython",
        "version": 3
      },
      "file_extension": ".py",
      "mimetype": "text/x-python",
      "name": "python",
      "nbconvert_exporter": "python",
      "pygments_lexer": "ipython3",
      "version": "3.11.1"
    }
  },
  "nbformat": 4,
  "nbformat_minor": 1
}